{
 "cells": [
  {
   "cell_type": "markdown",
   "id": "f9f0f8fe",
   "metadata": {},
   "source": [
    "# Initialisation"
   ]
  },
  {
   "cell_type": "code",
   "execution_count": 1,
   "id": "665730e1",
   "metadata": {},
   "outputs": [],
   "source": [
    "import os\n",
    "import pandas as pd\n",
    "# os.chdir(\"path_toward_the_folder_containing_the_file_\"functions\")   # To use if needed\n",
    "import functions as functions\n",
    "import pickle\n",
    "import matplotlib.pyplot as plt\n",
    "pd.set_option(\"display.max_rows\",None,\"display.max_columns\",None)     # To display the dataframes entirely"
   ]
  },
  {
   "cell_type": "markdown",
   "id": "8607da89",
   "metadata": {},
   "source": [
    "# Find the data"
   ]
  },
  {
   "cell_type": "code",
   "execution_count": 2,
   "id": "4ea8fc5b",
   "metadata": {},
   "outputs": [],
   "source": [
    "# Files\n",
    "\n",
    "## Source files\n",
    "data_source='source_files/user_file.xlsx'\n",
    "data_impacts_source='source_files/impact_file.xlsx'\n",
    "\n",
    "## Working files\n",
    "\n",
    "data_impacts_working_file='working_files\\impacts.xlsx'\n",
    "general_working_file='working_files\\data.xlsx'\n",
    "temporary_saving_file=r'working_files\\temporary_save_factors.xlsx'\n",
    "\n",
    "## Results\n",
    "\n",
    "pickle_file=r'results\\pickle'\n",
    "\n",
    "# Matrices\n",
    "\n",
    "##Here put the information necessary for the code to be able to identify your matrices\n",
    "\n",
    "## A matrix\n",
    "A_1st_column='name of A 1st column (foreground process 1)'\n",
    "A_last_column='name of A last column (background process 2)'\n",
    "A_separation_column=\"name of A last column being a foreground process (foreground process 5)\"\n",
    "A_first_line='name of A first line'\n",
    "A_last_line='name of A last line'\n",
    "\n",
    "## Demand matrix\n",
    "\n",
    "demand_first_line=A_first_line\n",
    "demand_last_line=A_last_line\n",
    "demand_first_column='Demand column name'\n",
    "demand_last_column=demand_first_column\n",
    "\n",
    "## Bound matrix\n",
    "\n",
    "bounds_first_line=\"Name of the line containing the values of the lower boundaries\"\n",
    "bounds_last_line=\"Name of the line containing the values of the upper boundaries\"\n",
    "bounds_first_column=A_1st_column\n",
    "bounds_last_column=A_last_column\n",
    "\n",
    "## Phases matrix\n",
    "phases_first_line='Name of the first line containing the phases'\n",
    "phases_last_line='Name of the first line containing the phases'\n",
    "\n",
    "## Impact matrix\n",
    "\n",
    "Impacts_first_column=A_1st_column\n",
    "Impacts_last_column=A_last_column\n",
    "Impacts_separation_column=A_separation_column\n",
    "Impacts_IWP_Mid_first_line=\"IWP Mid | Climate change, long term (kg CO2 eq (long))\"\n",
    "Impacts_IWP_Mid_last_line=\"IWP Mid | Water scarcity (m3 world-eq)\"\n",
    "Impacts_IWP_End_first_line=\"IWP End | Ecosystem quality | Climate change, ecosystem quality, long term (PDF.m2.yr)\"\n",
    "Impacts_IWP_End_last_line=\"IWP End | Human health | Human health total red (DALY)\"\n",
    "Impact_EF_3_0_first_line=\"EF 3.0 |acidification | accumulated exceedance (ae) (mol H+ eq)\"\n",
    "Impact_EF_3_0_last_line=\"EF 3.0 | water use, user deprivation potential (deprivation-weighted water consumption) (m3 depriv.)\""
   ]
  },
  {
   "cell_type": "markdown",
   "id": "591b1509",
   "metadata": {},
   "source": [
    "# Build the data file"
   ]
  },
  {
   "cell_type": "code",
   "execution_count": 3,
   "id": "9b8d233a",
   "metadata": {
    "scrolled": true
   },
   "outputs": [
    {
     "name": "stdout",
     "output_type": "stream",
     "text": [
      "\n",
      " Fermer le fichier \n",
      "\n",
      "D:\\Matières\\Double_diplôme_Montreal\\CIRAIG\\Projet_de_maîtrise\\Code\\Working_files\\impacts.xlsx\n",
      "\n",
      " s'il est ouvert. \n",
      " La procédure prend quelques secondes.\n"
     ]
    }
   ],
   "source": [
    "# Searching for the unit impacts of the aggregated processes\n",
    "\n",
    "#Precise the database you want to use in the variable \"database\"\n",
    "       \n",
    "functions.search_impacts(data_source,\n",
    "                            data_impacts_source,\n",
    "                            data_impacts_working_file,\n",
    "                            Impacts_first_column,\n",
    "                            Impacts_separation_column,\n",
    "                            Impacts_last_column,\n",
    "                            Impacts_IWP_Mid_first_line,\n",
    "                            Impacts_IWP_Mid_last_line,\n",
    "                            Impacts_IWP_End_first_line,\n",
    "                            Impacts_IWP_End_last_line,\n",
    "                            Impact_EF_3_0_first_line,\n",
    "                            Impact_EF_3_0_last_line, \n",
    "                            database=\"database 1\",         # change to \"database 2\" if you want to use database 2\n",
    "                            open_file=\"n\")                 # change to \"y\" if you want the constructed file to be opened"
   ]
  },
  {
   "cell_type": "code",
   "execution_count": 3,
   "id": "5147a5c5",
   "metadata": {},
   "outputs": [
    {
     "name": "stdout",
     "output_type": "stream",
     "text": [
      "\n",
      "Lancer cette fonction après avoir formaté les données d'impacts dans \n",
      "D:\\Matières\\Double_diplôme_Montreal\\CIRAIG\\Projet_de_maîtrise\\Code\\Working_files\\impacts.xlsx\n",
      "\n",
      "Fermer le fichier \n",
      "D:\\Matières\\Double_diplôme_Montreal\\CIRAIG\\Projet_de_maîtrise\\Code\\Working_files\\data.xlsx\n",
      "s'il est ouvert.\n",
      "\n"
     ]
    }
   ],
   "source": [
    "# Final data file construction\n",
    "\n",
    "data=functions.data_initialisation(data_source,\n",
    "                                      data_impacts_working_file,\n",
    "                                      general_working_file,\n",
    "                                      A_1st_column,\n",
    "                                      A_last_column,\n",
    "                                      A_first_line,\n",
    "                                      A_last_line,\n",
    "                                      demand_first_line,\n",
    "                                      demand_last_line,\n",
    "                                      demand_first_column,\n",
    "                                      demand_last_column,\n",
    "                                      bounds_first_line,\n",
    "                                      bounds_last_line,\n",
    "                                      bounds_first_column,\n",
    "                                      bounds_last_column, \n",
    "                                      phases_first_line,\n",
    "                                      phases_last_line,\n",
    "                                      open_file=\"n\")               # change to \"y\" if you want the constructed file to be opened"
   ]
  },
  {
   "cell_type": "markdown",
   "id": "baad9bd1",
   "metadata": {},
   "source": [
    "# MOO e-constraint preparing"
   ]
  },
  {
   "cell_type": "markdown",
   "id": "ba6369c2",
   "metadata": {},
   "source": [
    "First select the main objective function and the e-constrained objective function (for now only two objectives)"
   ]
  },
  {
   "cell_type": "code",
   "execution_count": 4,
   "id": "2d605893",
   "metadata": {
    "scrolled": true
   },
   "outputs": [
    {
     "data": {
      "text/plain": [
       "['IWP Mid | Climate change, short term (kg CO2 eq (short))',\n",
       " 'IWP Mid | Fossil and nuclear energy use (MJ deprived)',\n",
       " 'IWP End | Ecosystem quality | Ecosystem quality total red (PDF.m2.yr)',\n",
       " 'IWP End | Human health | Human health total red (DALY)']"
      ]
     },
     "execution_count": 4,
     "metadata": {},
     "output_type": "execute_result"
    }
   ],
   "source": [
    "# Read objective functions\n",
    "## The objective function has to be selected in the main file by \"X\" in the column \"Selected scenarios\". Be careful it is a big X, little x will not work.\n",
    "list_objective_functions=functions.objective_choice(data_source)\n",
    "list_objective_functions"
   ]
  },
  {
   "cell_type": "code",
   "execution_count": 46,
   "id": "f54f4809",
   "metadata": {},
   "outputs": [
    {
     "name": "stdout",
     "output_type": "stream",
     "text": [
      "Impact chosen to be the main objective \n",
      "3\n",
      "Impact chosen to be the e-constraint \n",
      "1\n",
      "The main objective function is\n",
      "IWP End | Human health | Human health total red (DALY)\n",
      "\n",
      "\n",
      "The e-constrained functions are\n",
      "IWP Mid | Fossil and nuclear energy use (MJ deprived)\n"
     ]
    }
   ],
   "source": [
    "#Among them, select the main objective function\n",
    "\n",
    "obj_function_number=int(input(\"Impact chosen to be the main objective \\n\"))\n",
    "obj_function=list_objective_functions[obj_function_number]\n",
    "\n",
    "#Among them, select the constrained objective\n",
    "\n",
    "e_constraint_function_number=int(input(\"Impact chosen to be the e-constraint \\n\"))\n",
    "e_constraint_function=list_objective_functions[e_constraint_function_number]\n",
    "\n",
    "list_objective_functions_moo=[]\n",
    "list_objective_functions_moo.append(obj_function)\n",
    "list_objective_functions_moo.append(e_constraint_function)\n",
    "\n",
    "print(\"The main objective function is\")\n",
    "print(list_objective_functions_moo[0])\n",
    "print(\"\\n\")\n",
    "print(\"The e-constrained functions are\")\n",
    "for i in range(1,len(list_objective_functions_moo)):\n",
    "    print(list_objective_functions_moo[i])"
   ]
  },
  {
   "cell_type": "markdown",
   "id": "14603dc8",
   "metadata": {},
   "source": [
    "Optimize the main obj and the e constrained obj functions to get the maximum and minimum values in the range (for now only two objectives available)"
   ]
  },
  {
   "cell_type": "code",
   "execution_count": 47,
   "id": "ebd55ab0",
   "metadata": {
    "scrolled": true
   },
   "outputs": [
    {
     "name": "stdout",
     "output_type": "stream",
     "text": [
      "IWP Mid | Fossil and nuclear energy use (MJ deprived) has been optimized successfully\n",
      "IWP End | Human health | Human health total red (DALY) has been optimized successfully\n",
      "Normalization factors calculated !\n"
     ]
    },
    {
     "data": {
      "text/html": [
       "<div>\n",
       "<style scoped>\n",
       "    .dataframe tbody tr th:only-of-type {\n",
       "        vertical-align: middle;\n",
       "    }\n",
       "\n",
       "    .dataframe tbody tr th {\n",
       "        vertical-align: top;\n",
       "    }\n",
       "\n",
       "    .dataframe thead th {\n",
       "        text-align: right;\n",
       "    }\n",
       "</style>\n",
       "<table border=\"1\" class=\"dataframe\">\n",
       "  <thead>\n",
       "    <tr style=\"text-align: right;\">\n",
       "      <th></th>\n",
       "      <th>ideal_f</th>\n",
       "      <th>nadir_f</th>\n",
       "    </tr>\n",
       "  </thead>\n",
       "  <tbody>\n",
       "    <tr>\n",
       "      <th>IWP End | Human health | Human health total red (DALY)</th>\n",
       "      <td>58350.836187</td>\n",
       "      <td>59441.90225</td>\n",
       "    </tr>\n",
       "    <tr>\n",
       "      <th>IWP Mid | Fossil and nuclear energy use (MJ deprived)</th>\n",
       "      <td>972314553911.114502</td>\n",
       "      <td>983933866258.938843</td>\n",
       "    </tr>\n",
       "  </tbody>\n",
       "</table>\n",
       "</div>"
      ],
      "text/plain": [
       "                                                                ideal_f  \\\n",
       "IWP End | Human health | Human health total red...         58350.836187   \n",
       "IWP Mid | Fossil and nuclear energy use (MJ dep...  972314553911.114502   \n",
       "\n",
       "                                                                nadir_f  \n",
       "IWP End | Human health | Human health total red...          59441.90225  \n",
       "IWP Mid | Fossil and nuclear energy use (MJ dep...  983933866258.938843  "
      ]
     },
     "execution_count": 47,
     "metadata": {},
     "output_type": "execute_result"
    }
   ],
   "source": [
    "# To obtain the max (nadir_f) and the min (ideal_f)\n",
    "\n",
    "norm_fact_df=functions.optimisation_to_norm(data,list_objective_functions_moo)\n",
    "norm_fact_df"
   ]
  },
  {
   "cell_type": "code",
   "execution_count": 48,
   "id": "19cd56d8",
   "metadata": {
    "scrolled": true
   },
   "outputs": [
    {
     "data": {
      "text/plain": [
       "[972314553911.1145,\n",
       " 972546940158.071,\n",
       " 972779326405.0275,\n",
       " 973011712651.984,\n",
       " 973244098898.9404,\n",
       " 973476485145.897,\n",
       " 973708871392.8534,\n",
       " 973941257639.8099,\n",
       " 974173643886.7664,\n",
       " 974406030133.7229,\n",
       " 974638416380.6793,\n",
       " 974870802627.6359,\n",
       " 975103188874.5923,\n",
       " 975335575121.5488,\n",
       " 975567961368.5054,\n",
       " 975800347615.4618,\n",
       " 976032733862.4183,\n",
       " 976265120109.3748,\n",
       " 976497506356.3313,\n",
       " 976729892603.2877,\n",
       " 976962278850.2443,\n",
       " 977194665097.2007,\n",
       " 977427051344.1572,\n",
       " 977659437591.1136,\n",
       " 977891823838.0702,\n",
       " 978124210085.0266,\n",
       " 978356596331.9832,\n",
       " 978588982578.9397,\n",
       " 978821368825.8961,\n",
       " 979053755072.8527,\n",
       " 979286141319.8091,\n",
       " 979518527566.7656,\n",
       " 979750913813.722,\n",
       " 979983300060.6786,\n",
       " 980215686307.635,\n",
       " 980448072554.5916,\n",
       " 980680458801.548,\n",
       " 980912845048.5045,\n",
       " 981145231295.461,\n",
       " 981377617542.4175,\n",
       " 981610003789.374,\n",
       " 981842390036.3304,\n",
       " 982074776283.287,\n",
       " 982307162530.2434,\n",
       " 982539548777.2,\n",
       " 982771935024.1564,\n",
       " 983004321271.1129,\n",
       " 983236707518.0693,\n",
       " 983469093765.0259,\n",
       " 983701480011.9823]"
      ]
     },
     "execution_count": 48,
     "metadata": {},
     "output_type": "execute_result"
    }
   ],
   "source": [
    "# To get the e-constraints values\n",
    "\n",
    "min_value=norm_fact_df.iloc[1,0]\n",
    "max_value=norm_fact_df.iloc[1,1]\n",
    "\n",
    "list_of_e_constraint_values=[]\n",
    "points_number=50\n",
    "\n",
    "for i in range (points_number):\n",
    "    list_of_e_constraint_values.append(min_value+((max_value-min_value)/points_number)*i)\n",
    "\n",
    "list_of_e_constraint_values"
   ]
  },
  {
   "cell_type": "code",
   "execution_count": 49,
   "id": "81ed7f91",
   "metadata": {
    "scrolled": true
   },
   "outputs": [
    {
     "name": "stdout",
     "output_type": "stream",
     "text": [
      "L'optimisation totale prend quelques secondes\n",
      "opt. 972314553911.1145 has been optimized successfully\n",
      "opt. 972546940158.071 has been optimized successfully\n",
      "opt. 972779326405.0275 has been optimized successfully\n",
      "opt. 973011712651.984 has been optimized successfully\n",
      "opt. 973244098898.9404 has been optimized successfully\n",
      "opt. 973476485145.897 has been optimized successfully\n",
      "opt. 973708871392.8534 has been optimized successfully\n",
      "opt. 973941257639.8099 has been optimized successfully\n",
      "opt. 974173643886.7664 has been optimized successfully\n",
      "opt. 974406030133.7229 has been optimized successfully\n",
      "opt. 974638416380.6793 has been optimized successfully\n",
      "opt. 974870802627.6359 has been optimized successfully\n",
      "opt. 975103188874.5923 has been optimized successfully\n",
      "opt. 975335575121.5488 has been optimized successfully\n",
      "opt. 975567961368.5054 has been optimized successfully\n",
      "opt. 975800347615.4618 has been optimized successfully\n",
      "opt. 976032733862.4183 has been optimized successfully\n",
      "opt. 976265120109.3748 has been optimized successfully\n",
      "opt. 976497506356.3313 has been optimized successfully\n",
      "opt. 976729892603.2877 has been optimized successfully\n",
      "opt. 976962278850.2443 has been optimized successfully\n",
      "opt. 977194665097.2007 has been optimized successfully\n",
      "opt. 977427051344.1572 has been optimized successfully\n",
      "opt. 977659437591.1136 has been optimized successfully\n",
      "opt. 977891823838.0702 has been optimized successfully\n",
      "opt. 978124210085.0266 has been optimized successfully\n",
      "opt. 978356596331.9832 has been optimized successfully\n",
      "opt. 978588982578.9397 has been optimized successfully\n",
      "opt. 978821368825.8961 has been optimized successfully\n",
      "opt. 979053755072.8527 has been optimized successfully\n",
      "opt. 979286141319.8091 has been optimized successfully\n",
      "opt. 979518527566.7656 has been optimized successfully\n",
      "opt. 979750913813.722 has been optimized successfully\n",
      "opt. 979983300060.6786 has been optimized successfully\n",
      "opt. 980215686307.635 has been optimized successfully\n",
      "opt. 980448072554.5916 has been optimized successfully\n",
      "opt. 980680458801.548 has been optimized successfully\n",
      "opt. 980912845048.5045 has been optimized successfully\n",
      "opt. 981145231295.461 has been optimized successfully\n",
      "opt. 981377617542.4175 has been optimized successfully\n",
      "opt. 981610003789.374 has been optimized successfully\n",
      "opt. 981842390036.3304 has been optimized successfully\n",
      "opt. 982074776283.287 has been optimized successfully\n",
      "opt. 982307162530.2434 has been optimized successfully\n",
      "opt. 982539548777.2 has been optimized successfully\n",
      "opt. 982771935024.1564 has been optimized successfully\n",
      "opt. 983004321271.1129 has been optimized successfully\n",
      "opt. 983236707518.0693 has been optimized successfully\n",
      "opt. 983469093765.0259 has been optimized successfully\n",
      "opt. 983701480011.9823 has been optimized successfully\n",
      "Optimization done !\n"
     ]
    }
   ],
   "source": [
    "# Optimize the objective functions\n",
    "# Return a list of scenario_class variable containing information about each scenario, factors and impacts\n",
    "\n",
    "opt_resultats=functions.optimisation_e_constraint(data,list_objective_functions_moo,list_of_e_constraint_values,temporary_saving_file,open_file=\"n\")"
   ]
  },
  {
   "cell_type": "markdown",
   "id": "01be3c46",
   "metadata": {},
   "source": [
    "# Pareto graph"
   ]
  },
  {
   "cell_type": "code",
   "execution_count": 50,
   "id": "d183b2a8",
   "metadata": {},
   "outputs": [
    {
     "data": {
      "image/png": "[encoded data removed]",
      "text/plain": [
       "<Figure size 432x288 with 1 Axes>"
      ]
     },
     "metadata": {
      "needs_background": "light"
     },
     "output_type": "display_data"
    }
   ],
   "source": [
    "#Get the values for your graphs\n",
    "\n",
    "values_obj_1=[]\n",
    "values_obj_2=[]\n",
    "\n",
    "for i in range (len(opt_resultats)):\n",
    "    for j in range(len(opt_resultats[i].impacts)):\n",
    "        if opt_resultats[i].impacts[j].name==list_objective_functions_moo[0]:\n",
    "            values_obj_1.append(opt_resultats[i].impacts[j].valeur_totale)\n",
    "        if opt_resultats[i].impacts[j].name==list_objective_functions_moo[1]:\n",
    "            values_obj_2.append(opt_resultats[i].impacts[j].valeur_totale)\n",
    "\n",
    "# Print the graph\n",
    "\n",
    "plt.plot(values_obj_1, values_obj_2)\n",
    "plt.xlabel(list_objective_functions_moo[0])\n",
    "plt.ylabel(list_objective_functions_moo[1])\n",
    "plt.show()            "
   ]
  },
  {
   "cell_type": "markdown",
   "id": "8cc5f902",
   "metadata": {},
   "source": [
    "# Data storage and retrieving into pickle files"
   ]
  },
  {
   "cell_type": "markdown",
   "id": "3cf2b783",
   "metadata": {},
   "source": [
    "At each optimisation, you can store the calculated scenarios in a pikle file to then re use them"
   ]
  },
  {
   "cell_type": "markdown",
   "id": "2b06f517",
   "metadata": {},
   "source": [
    "## Data storage"
   ]
  },
  {
   "cell_type": "code",
   "execution_count": 37,
   "id": "6aaf5311",
   "metadata": {},
   "outputs": [],
   "source": [
    "# Save the precedent results into pickle form\n",
    "\n",
    "with open(pickle_file,\"wb\") as output_file :\n",
    "    pickle.dump(opt_resultats, output_file)\n"
   ]
  }
 ],
 "metadata": {
  "kernelspec": {
   "display_name": "Python 3 (ipykernel)",
   "language": "python",
   "name": "python3"
  },
  "language_info": {
   "codemirror_mode": {
    "name": "ipython",
    "version": 3
   },
   "file_extension": ".py",
   "mimetype": "text/x-python",
   "name": "python",
   "nbconvert_exporter": "python",
   "pygments_lexer": "ipython3",
   "version": "3.8.8"
  }
 },
 "nbformat": 4,
 "nbformat_minor": 5
}
