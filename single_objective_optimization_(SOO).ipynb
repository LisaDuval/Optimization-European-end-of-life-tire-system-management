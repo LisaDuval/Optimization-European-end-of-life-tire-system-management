{
 "cells": [
  {
   "cell_type": "markdown",
   "id": "f9f0f8fe",
   "metadata": {},
   "source": [
    "# Initialisation"
   ]
  },
  {
   "cell_type": "code",
   "execution_count": 1,
   "id": "665730e1",
   "metadata": {},
   "outputs": [],
   "source": [
    "import os\n",
    "import pandas as pd\n",
    "# os.chdir(\"path_toward_the_folder_containing_the_file_\"functions\")   # To use if needed\n",
    "import functions as functions\n",
    "import pickle\n",
    "pd.set_option(\"display.max_rows\",None,\"display.max_columns\",None)     # To display the dataframes entirely"
   ]
  },
  {
   "cell_type": "markdown",
   "id": "8607da89",
   "metadata": {},
   "source": [
    "# Find the data"
   ]
  },
  {
   "cell_type": "code",
   "execution_count": 2,
   "id": "4ea8fc5b",
   "metadata": {},
   "outputs": [],
   "source": [
    "# Files\n",
    "\n",
    "## Source files\n",
    "data_source='source_files/user_file.xlsx'\n",
    "data_impacts_source='source_files/impact_file.xlsx'\n",
    "\n",
    "## Working files\n",
    "\n",
    "data_impacts_working_file='working_files\\impacts.xlsx'\n",
    "general_working_file='working_files\\data.xlsx'\n",
    "temporary_saving_file=r'working_files\\temporary_save_factors.xlsx'\n",
    "\n",
    "## Results\n",
    "\n",
    "pickle_file=r'results\\pickle'\n",
    "\n",
    "# Matrices\n",
    "\n",
    "##Here put the information necessary for the code to be able to identify your matrices\n",
    "\n",
    "## A matrix\n",
    "A_1st_column='name of A 1st column (foreground process 1)'\n",
    "A_last_column='name of A last column (background process 2)'\n",
    "A_separation_column=\"name of A last column being a foreground process (foreground process 5)\"\n",
    "A_first_line='name of A first line'\n",
    "A_last_line='name of A last line'\n",
    "\n",
    "## Demand matrix\n",
    "\n",
    "demand_first_line=A_first_line\n",
    "demand_last_line=A_last_line\n",
    "demand_first_column='Demand column name'\n",
    "demand_last_column=demand_first_column\n",
    "\n",
    "## Bound matrix\n",
    "\n",
    "bounds_first_line=\"Name of the line containing the values of the lower boundaries\"\n",
    "bounds_last_line=\"Name of the line containing the values of the upper boundaries\"\n",
    "bounds_first_column=A_1st_column\n",
    "bounds_last_column=A_last_column\n",
    "\n",
    "## Phases matrix\n",
    "phases_first_line='Name of the first line containing the phases'\n",
    "phases_last_line='Name of the first line containing the phases'\n",
    "\n",
    "## Impact matrix\n",
    "\n",
    "Impacts_first_column=A_1st_column\n",
    "Impacts_last_column=A_last_column\n",
    "Impacts_separation_column=A_separation_column\n",
    "Impacts_IWP_Mid_first_line=\"IWP Mid | Climate change, long term (kg CO2 eq (long))\"\n",
    "Impacts_IWP_Mid_last_line=\"IWP Mid | Water scarcity (m3 world-eq)\"\n",
    "Impacts_IWP_End_first_line=\"IWP End | Ecosystem quality | Climate change, ecosystem quality, long term (PDF.m2.yr)\"\n",
    "Impacts_IWP_End_last_line=\"IWP End | Human health | Human health total red (DALY)\"\n",
    "Impact_EF_3_0_first_line=\"EF 3.0 |acidification | accumulated exceedance (ae) (mol H+ eq)\"\n",
    "Impact_EF_3_0_last_line=\"EF 3.0 | water use, user deprivation potential (deprivation-weighted water consumption) (m3 depriv.)\""
   ]
  },
  {
   "cell_type": "markdown",
   "id": "591b1509",
   "metadata": {},
   "source": [
    "# Build the data file"
   ]
  },
  {
   "cell_type": "code",
   "execution_count": 3,
   "id": "9b8d233a",
   "metadata": {
    "scrolled": true
   },
   "outputs": [
    {
     "name": "stdout",
     "output_type": "stream",
     "text": [
      "\n",
      " Fermer le fichier \n",
      "\n",
      "D:\\Matières\\Double_diplôme_Montreal\\CIRAIG\\Projet_de_maîtrise\\Code\\Working_files\\impacts.xlsx\n",
      "\n",
      " s'il est ouvert. \n",
      " La procédure prend quelques secondes.\n"
     ]
    }
   ],
   "source": [
    "# Searching for the unit impacts of the aggregated processes\n",
    "\n",
    "#Precise the database you want to use in the variable \"database\"\n",
    "       \n",
    "functions.search_impacts(data_source,\n",
    "                            data_impacts_source,\n",
    "                            data_impacts_working_file,\n",
    "                            Impacts_first_column,\n",
    "                            Impacts_separation_column,\n",
    "                            Impacts_last_column,\n",
    "                            Impacts_IWP_Mid_first_line,\n",
    "                            Impacts_IWP_Mid_last_line,\n",
    "                            Impacts_IWP_End_first_line,\n",
    "                            Impacts_IWP_End_last_line,\n",
    "                            Impact_EF_3_0_first_line,\n",
    "                            Impact_EF_3_0_last_line, \n",
    "                            database=\"database 1\",         # change to \"database 2\" if you want to use database 2\n",
    "                            open_file=\"n\")                 # change to \"y\" if you want the constructed file to be opened"
   ]
  },
  {
   "cell_type": "code",
   "execution_count": 4,
   "id": "5147a5c5",
   "metadata": {},
   "outputs": [
    {
     "name": "stdout",
     "output_type": "stream",
     "text": [
      "\n",
      "Lancer cette fonction après avoir formaté les données d'impacts dans \n",
      "D:\\Matières\\Double_diplôme_Montreal\\CIRAIG\\Projet_de_maîtrise\\Code\\Working_files\\impacts.xlsx\n",
      "\n",
      "Fermer le fichier \n",
      "D:\\Matières\\Double_diplôme_Montreal\\CIRAIG\\Projet_de_maîtrise\\Code\\Working_files\\data.xlsx\n",
      "s'il est ouvert.\n",
      "\n"
     ]
    }
   ],
   "source": [
    "# Final data file construction\n",
    "\n",
    "data=functions.data_initialisation(data_source,\n",
    "                                      data_impacts_working_file,\n",
    "                                      general_working_file,\n",
    "                                      A_1st_column,\n",
    "                                      A_last_column,\n",
    "                                      A_first_line,\n",
    "                                      A_last_line,\n",
    "                                      demand_first_line,\n",
    "                                      demand_last_line,\n",
    "                                      demand_first_column,\n",
    "                                      demand_last_column,\n",
    "                                      bounds_first_line,\n",
    "                                      bounds_last_line,\n",
    "                                      bounds_first_column,\n",
    "                                      bounds_last_column, \n",
    "                                      phases_first_line,\n",
    "                                      phases_last_line,\n",
    "                                      open_file=\"n\")               # change to \"y\" if you want the constructed file to be opened"
   ]
  },
  {
   "cell_type": "markdown",
   "id": "34d56eec",
   "metadata": {},
   "source": [
    "# Single-objective optimisation\n",
    "\n",
    "Provide scenarios optimized for each selected objective function."
   ]
  },
  {
   "cell_type": "code",
   "execution_count": 5,
   "id": "5d315656",
   "metadata": {},
   "outputs": [],
   "source": [
    "# If you already have your data file\n",
    "\n",
    "data=pd.ExcelFile(r\"D:\\Matières\\Double_diplôme_Montreal\\CIRAIG\\Projet_de_maîtrise\\Code\\Working_files\\data.xlsx\")"
   ]
  },
  {
   "cell_type": "markdown",
   "id": "c39785f0",
   "metadata": {},
   "source": [
    "## Optimisation"
   ]
  },
  {
   "cell_type": "code",
   "execution_count": 6,
   "id": "2d605893",
   "metadata": {
    "scrolled": true
   },
   "outputs": [
    {
     "data": {
      "text/plain": [
       "['IWP Mid | Climate change, short term (kg CO2 eq (short))']"
      ]
     },
     "execution_count": 6,
     "metadata": {},
     "output_type": "execute_result"
    }
   ],
   "source": [
    "# Read objective functions\n",
    "## The objective function has to be selected in the main file by \"X\" in the column \"Selected scenarios\". Be careful it is a big X, little x will not work.\n",
    "list_objective_functions=functions.objective_choice(data_source)\n",
    "list_objective_functions"
   ]
  },
  {
   "cell_type": "code",
   "execution_count": 7,
   "id": "81ed7f91",
   "metadata": {
    "scrolled": false
   },
   "outputs": [
    {
     "name": "stdout",
     "output_type": "stream",
     "text": [
      "L'optimisation totale prend quelques secondes\n",
      "opt. IWP Mid | Climate change, short term (kg CO2 eq (short)) has been optimized successfully\n",
      "Optimization done !\n"
     ]
    }
   ],
   "source": [
    "# Optimize the objective functions\n",
    "# Return a list of scenario_class variable containing information about each scenario, factors and impacts\n",
    "\n",
    "opt_resultats=functions.optimisation_one_obj(data,list_objective_functions,temporary_saving_file,open_file=\"y\")"
   ]
  },
  {
   "cell_type": "markdown",
   "id": "2b06f517",
   "metadata": {},
   "source": [
    "## Data storage"
   ]
  },
  {
   "cell_type": "code",
   "execution_count": 8,
   "id": "6aaf5311",
   "metadata": {},
   "outputs": [],
   "source": [
    "# Save the precedent results into pickle form at the location specifier in the pickle_file variable\n",
    "\n",
    "with open(pickle_file,\"wb\") as output_file :\n",
    "    pickle.dump(opt_resultats, output_file)\n"
   ]
  }
 ],
 "metadata": {
  "kernelspec": {
   "display_name": "Python 3 (ipykernel)",
   "language": "python",
   "name": "python3"
  },
  "language_info": {
   "codemirror_mode": {
    "name": "ipython",
    "version": 3
   },
   "file_extension": ".py",
   "mimetype": "text/x-python",
   "name": "python",
   "nbconvert_exporter": "python",
   "pygments_lexer": "ipython3",
   "version": "3.8.8"
  }
 },
 "nbformat": 4,
 "nbformat_minor": 5
}
