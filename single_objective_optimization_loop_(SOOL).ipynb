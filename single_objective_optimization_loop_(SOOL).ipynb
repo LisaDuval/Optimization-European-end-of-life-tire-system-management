{
 "cells": [
  {
   "cell_type": "markdown",
   "id": "b046c38d",
   "metadata": {},
   "source": [
    "# Initialisation"
   ]
  },
  {
   "cell_type": "code",
   "execution_count": 1,
   "id": "4624e466",
   "metadata": {},
   "outputs": [],
   "source": [
    "import os\n",
    "import pandas as pd\n",
    "# os.chdir(\"path_toward_the_folder_containing_the_file_\"functions\")   # To use if needed\n",
    "import functions as functions\n",
    "import pickle\n",
    "pd.set_option(\"display.max_rows\",None,\"display.max_columns\",None)     # To display the dataframes entirely"
   ]
  },
  {
   "cell_type": "markdown",
   "id": "b4e52780",
   "metadata": {},
   "source": [
    "# Find the data"
   ]
  },
  {
   "cell_type": "code",
   "execution_count": null,
   "id": "b1ba315f",
   "metadata": {},
   "outputs": [],
   "source": [
    "# Files\n",
    "\n",
    "## Source files\n",
    "data_source='source_files/user_file.xlsx'\n",
    "data_impacts_source='source_files/impact_file.xlsx'\n",
    "\n",
    "## Working files\n",
    "\n",
    "data_impacts_working_file='working_files\\impacts.xlsx'\n",
    "general_working_file='working_files\\data.xlsx'\n",
    "temporary_saving_file=r'working_files\\temporary_save_factors.xlsx'\n",
    "\n",
    "## Results\n",
    "\n",
    "pickle_file=r'results\\pickle'\n",
    "\n",
    "# Matrices\n",
    "\n",
    "##Here put the information necessary for the code to be able to identify your matrices\n",
    "\n",
    "## A matrix\n",
    "A_1st_column='name of A 1st column (foreground process 1)'\n",
    "A_last_column='name of A last column (background process 2)'\n",
    "A_separation_column=\"name of A last column being a foreground process (foreground process 5)\"\n",
    "A_first_line='name of A first line'\n",
    "A_last_line='name of A last line'\n",
    "\n",
    "## Demand matrix\n",
    "\n",
    "demand_first_line=A_first_line\n",
    "demand_last_line=A_last_line\n",
    "demand_first_column='Demand column name'\n",
    "demand_last_column=demand_first_column\n",
    "\n",
    "## Bound matrix\n",
    "\n",
    "bounds_first_line=\"Name of the line containing the values of the lower boundaries\"\n",
    "bounds_last_line=\"Name of the line containing the values of the upper boundaries\"\n",
    "bounds_first_column=A_1st_column\n",
    "bounds_last_column=A_last_column\n",
    "\n",
    "## Phases matrix\n",
    "phases_first_line='Name of the first line containing the phases'\n",
    "phases_last_line='Name of the first line containing the phases'\n",
    "\n",
    "## Impact matrix\n",
    "\n",
    "Impacts_first_column=A_1st_column\n",
    "Impacts_last_column=A_last_column\n",
    "Impacts_separation_column=A_separation_column\n",
    "Impacts_IWP_Mid_first_line=\"IWP Mid | Climate change, long term (kg CO2 eq (long))\"\n",
    "Impacts_IWP_Mid_last_line=\"IWP Mid | Water scarcity (m3 world-eq)\"\n",
    "Impacts_IWP_End_first_line=\"IWP End | Ecosystem quality | Climate change, ecosystem quality, long term (PDF.m2.yr)\"\n",
    "Impacts_IWP_End_last_line=\"IWP End | Human health | Human health total red (DALY)\"\n",
    "Impact_EF_3_0_first_line=\"EF 3.0 |acidification | accumulated exceedance (ae) (mol H+ eq)\"\n",
    "Impact_EF_3_0_last_line=\"EF 3.0 | water use, user deprivation potential (deprivation-weighted water consumption) (m3 depriv.)\""
   ]
  },
  {
   "cell_type": "markdown",
   "id": "c618d6b9",
   "metadata": {},
   "source": [
    "# Get files"
   ]
  },
  {
   "cell_type": "code",
   "execution_count": 4,
   "id": "465877ea",
   "metadata": {},
   "outputs": [
    {
     "data": {
      "text/plain": [
       "['P2 Molded objects - 100% HDPE.xlsx',\n",
       " 'P2 Molded objects - 100% LDPE.xlsx',\n",
       " 'P2 Molded objects - 100% PUR.xlsx',\n",
       " 'P2 Molded objects - 100% SBR.xlsx']"
      ]
     },
     "execution_count": 4,
     "metadata": {},
     "output_type": "execute_result"
    }
   ],
   "source": [
    "path=\"path toward the folder containing all the user_file you want to use for the optimization (one per optimization)\"\n",
    "\n",
    "list_files_names=os.listdir(path)\n",
    "list_files_names"
   ]
  },
  {
   "cell_type": "code",
   "execution_count": 5,
   "id": "ae97f196",
   "metadata": {},
   "outputs": [
    {
     "data": {
      "text/plain": [
       "['D:\\\\Matières\\\\Double_diplôme_Montreal\\\\CIRAIG\\\\Projet_de_maîtrise\\\\Code\\\\Source_files\\\\Sensitivity_analysis_Polymer_P2\\\\P2 Molded objects - 100% HDPE.xlsx',\n",
       " 'D:\\\\Matières\\\\Double_diplôme_Montreal\\\\CIRAIG\\\\Projet_de_maîtrise\\\\Code\\\\Source_files\\\\Sensitivity_analysis_Polymer_P2\\\\P2 Molded objects - 100% LDPE.xlsx',\n",
       " 'D:\\\\Matières\\\\Double_diplôme_Montreal\\\\CIRAIG\\\\Projet_de_maîtrise\\\\Code\\\\Source_files\\\\Sensitivity_analysis_Polymer_P2\\\\P2 Molded objects - 100% PUR.xlsx',\n",
       " 'D:\\\\Matières\\\\Double_diplôme_Montreal\\\\CIRAIG\\\\Projet_de_maîtrise\\\\Code\\\\Source_files\\\\Sensitivity_analysis_Polymer_P2\\\\P2 Molded objects - 100% SBR.xlsx']"
      ]
     },
     "execution_count": 5,
     "metadata": {},
     "output_type": "execute_result"
    }
   ],
   "source": [
    "list_files=[]\n",
    "\n",
    "for i in range(len(list_files_names)):\n",
    "    list_files.append(path+\"\\\\\"+list_files_names[i])\n",
    "    \n",
    "list_files"
   ]
  },
  {
   "cell_type": "markdown",
   "id": "591b1509",
   "metadata": {},
   "source": [
    "# Build the data file"
   ]
  },
  {
   "cell_type": "markdown",
   "id": "f9f0f8fe",
   "metadata": {},
   "source": [
    "# Optimisation"
   ]
  },
  {
   "cell_type": "code",
   "execution_count": 7,
   "id": "992f56ae",
   "metadata": {},
   "outputs": [],
   "source": [
    "def optimize_total(data_source):\n",
    "\n",
    "    # Searching for the unit impacts of the aggregated processes\n",
    "\n",
    "    #Precise the database you want to use in the variable \"database\"                                      \n",
    "    functions.search_impacts(data_source,\n",
    "                                data_impacts_source,\n",
    "                                data_impacts_working_file,\n",
    "                                Impacts_first_column,\n",
    "                                Impacts_separation_column,\n",
    "                                Impacts_last_column,\n",
    "                                Impacts_IWP_Mid_first_line,\n",
    "                                Impacts_IWP_Mid_last_line,\n",
    "                                Impacts_IWP_End_first_line,\n",
    "                                Impacts_IWP_End_last_line,\n",
    "                                Impact_EF_3_0_first_line,\n",
    "                                Impact_EF_3_0_last_line,\n",
    "                                database=\"database 1\",          # change to \"database 2\" if you want to use database 2\n",
    "                                open_file=\"n\")                  # change to \"y\" if you want the constructed file to be opened\n",
    "    \n",
    "    # Final data file construction\n",
    "\n",
    "    data=functions.data_initialisation(data_source,\n",
    "                                      data_impacts_working_file,\n",
    "                                      general_working_file,\n",
    "                                      A_1st_column,\n",
    "                                      A_last_column,\n",
    "                                      A_first_line,\n",
    "                                      A_last_line,\n",
    "                                      demand_first_line,\n",
    "                                      demand_last_line,\n",
    "                                      demand_first_column,\n",
    "                                      demand_last_column,\n",
    "                                      bounds_first_line,\n",
    "                                      bounds_last_line,\n",
    "                                      bounds_first_column,\n",
    "                                      bounds_last_column,\n",
    "                                      open_file=\"n\")               # change to \"y\" if you want the constructed file to be opened\n",
    "    \n",
    "    # Read objective functions\n",
    "    ## The objective function has to be selected in the main file by \"X\" in the column \"Selected scenarios\". Be careful it is a big X, little x will not work.\n",
    "    list_objective_functions=functions.objective_choice(data_source)\n",
    "    print(list_objective_functions)\n",
    "    \n",
    "    # Optimize the objective functions\n",
    "    # Return a list of scenario_class variable containing information about each scenario, factors and impacts\n",
    "\n",
    "    opt_resultats=functions.optimisation_one_obj(data,list_objective_functions,temporary_saving_file,open_file=\"n\")\n",
    "    \n",
    "    return(opt_resultats)"
   ]
  },
  {
   "cell_type": "code",
   "execution_count": 8,
   "id": "5a59a4b2",
   "metadata": {
    "scrolled": true
   },
   "outputs": [
    {
     "name": "stdout",
     "output_type": "stream",
     "text": [
      "\n",
      " Fermer le fichier \n",
      "\n",
      "D:\\Matières\\Double_diplôme_Montreal\\CIRAIG\\Projet_de_maîtrise\\Code\\Working_files\\impacts.xlsx\n",
      "\n",
      " s'il est ouvert. \n",
      " La procédure prend quelques secondes.\n",
      "\n",
      "Lancer cette fonction après avoir formaté les données d'impacts dans \n",
      "D:\\Matières\\Double_diplôme_Montreal\\CIRAIG\\Projet_de_maîtrise\\Code\\Working_files\\impacts.xlsx\n",
      "\n",
      "Fermer le fichier \n",
      "D:\\Matières\\Double_diplôme_Montreal\\CIRAIG\\Projet_de_maîtrise\\Code\\Working_files\\data.xlsx\n",
      "s'il est ouvert.\n",
      "\n",
      "['IWP Mid | Climate change, short term (kg CO2 eq (short))']\n",
      "L'optimisation totale prend quelques secondes\n",
      "\u001b[1;30m The flow named Treated tires (kg) produced by \u001b[1;31m no provider found\n",
      "\u001b[1;30m is consumed by P.End-of-life with a share of 1.0\n",
      "\n",
      "\u001b[1;30m The flow named Non collected tire (kg) produced by \u001b[1;31m no provider found\n",
      "\u001b[1;30m is consumed by P.End-of-life with a share of 6.938893903907228e-18\n",
      "\n",
      "opt. IWP Mid | Climate change, short term (kg CO2 eq (short)) has been optimized successfully\n",
      "Optimization done !\n",
      "\n",
      " Fermer le fichier \n",
      "\n",
      "D:\\Matières\\Double_diplôme_Montreal\\CIRAIG\\Projet_de_maîtrise\\Code\\Working_files\\impacts.xlsx\n",
      "\n",
      " s'il est ouvert. \n",
      " La procédure prend quelques secondes.\n",
      "\n",
      "Lancer cette fonction après avoir formaté les données d'impacts dans \n",
      "D:\\Matières\\Double_diplôme_Montreal\\CIRAIG\\Projet_de_maîtrise\\Code\\Working_files\\impacts.xlsx\n",
      "\n",
      "Fermer le fichier \n",
      "D:\\Matières\\Double_diplôme_Montreal\\CIRAIG\\Projet_de_maîtrise\\Code\\Working_files\\data.xlsx\n",
      "s'il est ouvert.\n",
      "\n",
      "['IWP Mid | Climate change, short term (kg CO2 eq (short))']\n",
      "L'optimisation totale prend quelques secondes\n",
      "\u001b[1;30m The flow named Treated tires (kg) produced by \u001b[1;31m no provider found\n",
      "\u001b[1;30m is consumed by P.End-of-life with a share of 1.0\n",
      "\n",
      "\u001b[1;30m The flow named Non collected tire (kg) produced by \u001b[1;31m no provider found\n",
      "\u001b[1;30m is consumed by P.End-of-life with a share of 6.938893903907228e-18\n",
      "\n",
      "opt. IWP Mid | Climate change, short term (kg CO2 eq (short)) has been optimized successfully\n",
      "Optimization done !\n",
      "\n",
      " Fermer le fichier \n",
      "\n",
      "D:\\Matières\\Double_diplôme_Montreal\\CIRAIG\\Projet_de_maîtrise\\Code\\Working_files\\impacts.xlsx\n",
      "\n",
      " s'il est ouvert. \n",
      " La procédure prend quelques secondes.\n",
      "\n",
      "Lancer cette fonction après avoir formaté les données d'impacts dans \n",
      "D:\\Matières\\Double_diplôme_Montreal\\CIRAIG\\Projet_de_maîtrise\\Code\\Working_files\\impacts.xlsx\n",
      "\n",
      "Fermer le fichier \n",
      "D:\\Matières\\Double_diplôme_Montreal\\CIRAIG\\Projet_de_maîtrise\\Code\\Working_files\\data.xlsx\n",
      "s'il est ouvert.\n",
      "\n",
      "['IWP Mid | Climate change, short term (kg CO2 eq (short))']\n",
      "L'optimisation totale prend quelques secondes\n",
      "\u001b[1;30m The flow named Treated tires (kg) produced by \u001b[1;31m no provider found\n",
      "\u001b[1;30m is consumed by P.End-of-life with a share of 1.0\n",
      "\n",
      "\u001b[1;30m The flow named Non collected tire (kg) produced by \u001b[1;31m no provider found\n",
      "\u001b[1;30m is consumed by P.End-of-life with a share of 6.938893903907228e-18\n",
      "\n",
      "opt. IWP Mid | Climate change, short term (kg CO2 eq (short)) has been optimized successfully\n",
      "Optimization done !\n",
      "\n",
      " Fermer le fichier \n",
      "\n",
      "D:\\Matières\\Double_diplôme_Montreal\\CIRAIG\\Projet_de_maîtrise\\Code\\Working_files\\impacts.xlsx\n",
      "\n",
      " s'il est ouvert. \n",
      " La procédure prend quelques secondes.\n",
      "\n",
      "Lancer cette fonction après avoir formaté les données d'impacts dans \n",
      "D:\\Matières\\Double_diplôme_Montreal\\CIRAIG\\Projet_de_maîtrise\\Code\\Working_files\\impacts.xlsx\n",
      "\n",
      "Fermer le fichier \n",
      "D:\\Matières\\Double_diplôme_Montreal\\CIRAIG\\Projet_de_maîtrise\\Code\\Working_files\\data.xlsx\n",
      "s'il est ouvert.\n",
      "\n",
      "['IWP Mid | Climate change, short term (kg CO2 eq (short))']\n",
      "L'optimisation totale prend quelques secondes\n",
      "\u001b[1;30m The flow named Treated tires (kg) produced by \u001b[1;31m no provider found\n",
      "\u001b[1;30m is consumed by P.End-of-life with a share of 1.0\n",
      "\n",
      "\u001b[1;30m The flow named Non collected tire (kg) produced by \u001b[1;31m no provider found\n",
      "\u001b[1;30m is consumed by P.End-of-life with a share of 6.938893903907228e-18\n",
      "\n",
      "opt. IWP Mid | Climate change, short term (kg CO2 eq (short)) has been optimized successfully\n",
      "Optimization done !\n"
     ]
    },
    {
     "data": {
      "text/plain": [
       "[<functions_v1.scenario_class at 0x20835f50e20>,\n",
       " <functions_v1.scenario_class at 0x20835d0fbe0>,\n",
       " <functions_v1.scenario_class at 0x20835f642e0>,\n",
       " <functions_v1.scenario_class at 0x20835d0f9a0>]"
      ]
     },
     "execution_count": 8,
     "metadata": {},
     "output_type": "execute_result"
    }
   ],
   "source": [
    "final_opt_results=[]\n",
    "\n",
    "for i in range(len(list_files)):\n",
    "    opt_results=optimize_total(list_files[i])\n",
    "    final_opt_results.append(opt_results[0])\n",
    "    \n",
    "final_opt_results"
   ]
  },
  {
   "cell_type": "markdown",
   "id": "630b9f7f",
   "metadata": {},
   "source": [
    "# Renaming"
   ]
  },
  {
   "cell_type": "code",
   "execution_count": 9,
   "id": "be84b59c",
   "metadata": {},
   "outputs": [
    {
     "name": "stdout",
     "output_type": "stream",
     "text": [
      "P2 Molded objects - 100% HDPE\n",
      "P2 Molded objects - 100% LDPE\n",
      "P2 Molded objects - 100% PUR\n",
      "P2 Molded objects - 100% SBR\n"
     ]
    }
   ],
   "source": [
    "# Obtain file name as scenario name\n",
    "for i in range(len(final_opt_results)):\n",
    "    final_opt_results[i].name=list_files_names[i]\n",
    "    print(final_opt_results[i].name)"
   ]
  },
  {
   "cell_type": "markdown",
   "id": "8cc5f902",
   "metadata": {},
   "source": [
    "# Data storage and retrieving into pickle files"
   ]
  },
  {
   "cell_type": "markdown",
   "id": "3cf2b783",
   "metadata": {},
   "source": [
    "At each optimisation, you can store the calculated scenarios in a pikle file to then re use them"
   ]
  },
  {
   "cell_type": "markdown",
   "id": "2b06f517",
   "metadata": {},
   "source": [
    "## Data storage"
   ]
  },
  {
   "cell_type": "code",
   "execution_count": 10,
   "id": "6aaf5311",
   "metadata": {},
   "outputs": [],
   "source": [
    "# Save the precedent results into pickle form\n",
    "\n",
    "with open(pickle_file,\"wb\") as output_file :\n",
    "    pickle.dump(final_opt_results, output_file)\n"
   ]
  }
 ],
 "metadata": {
  "kernelspec": {
   "display_name": "Python 3 (ipykernel)",
   "language": "python",
   "name": "python3"
  },
  "language_info": {
   "codemirror_mode": {
    "name": "ipython",
    "version": 3
   },
   "file_extension": ".py",
   "mimetype": "text/x-python",
   "name": "python",
   "nbconvert_exporter": "python",
   "pygments_lexer": "ipython3",
   "version": "3.8.8"
  }
 },
 "nbformat": 4,
 "nbformat_minor": 5
}
